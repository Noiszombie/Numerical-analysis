{
 "cells": [
  {
   "cell_type": "code",
   "execution_count": 15,
   "metadata": {
    "collapsed": true
   },
   "outputs": [],
   "source": [
    "'''Interpolation polynomial of Lagrange'''\n",
    "import math\n",
    "\n",
    "def function(valiable):\n",
    "    return math.exp(valiable)\n",
    "\n",
    "expValues1 = [1, 1.10517, 1.22140, 1.34986]\n",
    "x1 = [0, 0.1, 0.2, 0.3]\n",
    "expValues2 = [1.10517, 1.16183, 1.22140, 1.34986]\n",
    "x2 = [0.1, 0.15, 0.2, 0.3]\n",
    "\n",
    "def omega (vector, length, variable):\n",
    "    product = 1\n",
    "    for i in range(length):\n",
    "        product *= (variable - vector[i])\n",
    "    return product\n",
    "    \n",
    "def Lagrange (nodes, vector, length, variable):\n",
    "    for i in range(len(vector)):\n",
    "        if vector[i] == variable:\n",
    "            return nodes[i]\n",
    "    omega1 = omega(vector, length, variable)\n",
    "    P = 0\n",
    "    for i in range(length):\n",
    "        diff = 0\n",
    "        for j in range(length):\n",
    "            mem = 1\n",
    "            for k in range(length):\n",
    "                if k == j:\n",
    "                    mem *= 1\n",
    "                else:\n",
    "                    mem *= (vector[i] - vector[k])\n",
    "            diff += mem\n",
    "        P += ((omega1 * nodes[i]) / (diff*(variable-vector[i])))\n",
    "    return P"
   ]
  },
  {
   "cell_type": "code",
   "execution_count": 65,
   "metadata": {},
   "outputs": [
    {
     "data": {
      "image/png": "[encoded data removed]",
      "text/plain": [
       "<matplotlib.figure.Figure at 0x1b66017d978>"
      ]
     },
     "metadata": {},
     "output_type": "display_data"
    }
   ],
   "source": [
    "import matplotlib.pyplot as plt\n",
    "\n",
    "z = [i/100 for i in range(1000) if i/100 >= x1[0] if i/100 <= x1[len(x1)-1]]\n",
    "w = [function(z[i]) for i in range(len(z))]\n",
    "x = [i/100 for i in range(1000) if i/100 >= x1[0] if i/100 <= x1[len(x1)-1]]\n",
    "y = [Lagrange(expValues1, x1, len(x1), x[i]) for i in range(len(x))]\n",
    "\n",
    "fig = plt.figure()\n",
    "# Первая область рисования (мультиокно 1)\n",
    "ax = fig.add_subplot(311)\n",
    "ax2 = fig.add_subplot(313)\n",
    "ax.plot(x, y, 'k')\n",
    "ax2.plot(z, w, 'red')\n",
    "ax.scatter(x1,expValues1)\n",
    "xax = ax.xaxis\n",
    "yax = ax.yaxis\n",
    "xax2 = ax2.xaxis\n",
    "yax2 = ax2.yaxis\n",
    "xlabels = xax.get_ticklabels()\n",
    "x2labels = xax2.get_ticklabels()\n",
    "# Линии вспомогательной сетки (главные деления) только по оси абсцисс\n",
    "xax.grid(True)\n",
    "yax.grid(True)\n",
    "xax2.grid(True)\n",
    "yax2.grid(True)\n",
    "\n",
    "for label in xlabels:\n",
    "    # цвет подписи деленений оси OX\n",
    "    label.set_color('red')\n",
    "    # поворот подписей деленений оси OX \n",
    "    # размер шрифта подписей делений оси OX \n",
    "    label.set_fontsize(10)\n",
    "for label in x2labels:\n",
    "    # цвет подписи деленений оси OX\n",
    "    label.set_color('blue')\n",
    "    # размер шрифта подписей делений оси OX \n",
    "    label.set_fontsize(10)\n",
    "\n",
    "ax.set_title(u'Интерполяционный полином Лагранжа')\n",
    "ax2.set_title(u'Исходная функция')\n",
    "\n",
    "#print ('Lines on the axes:', type(line), line)\n",
    "plt.show()"
   ]
  },
  {
   "cell_type": "code",
   "execution_count": null,
   "metadata": {
    "collapsed": true
   },
   "outputs": [],
   "source": []
  },
  {
   "cell_type": "code",
   "execution_count": null,
   "metadata": {
    "collapsed": true
   },
   "outputs": [],
   "source": []
  }
 ],
 "metadata": {
  "kernelspec": {
   "display_name": "Python 3",
   "language": "python",
   "name": "python3"
  },
  "language_info": {
   "codemirror_mode": {
    "name": "ipython",
    "version": 3
   },
   "file_extension": ".py",
   "mimetype": "text/x-python",
   "name": "python",
   "nbconvert_exporter": "python",
   "pygments_lexer": "ipython3",
   "version": "3.6.3"
  }
 },
 "nbformat": 4,
 "nbformat_minor": 2
}
