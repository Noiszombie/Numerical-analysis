{
 "cells": [
  {
   "cell_type": "code",
   "execution_count": 43,
   "metadata": {},
   "outputs": [],
   "source": [
    "'''Interpolation polynomial of Lagrange'''\n",
    "\n",
    "expValues1 = [1, 1.10517, 1.22140, 1.34986]\n",
    "x1 = [0, 0.1, 0.2, 0.3]\n",
    "expValues2 = [1.10517, 1.16183, 1.22140, 1.34986]\n",
    "x2 = [0.1, 0.15, 0.2, 0.3]\n",
    "\n",
    "def omega (vector, length, variable):\n",
    "    product = 1\n",
    "    for i in range(length):\n",
    "        product *= (variable - vector[i])\n",
    "    return product\n",
    "    \n",
    "def Lagrange (nodes, vector, length, variable):\n",
    "    for i in range(len(vector)):\n",
    "        if vector[i] == variable:\n",
    "            return nodes[i]\n",
    "    omega1 = omega(vector, length, variable)\n",
    "    P = 0\n",
    "    for i in range(length):\n",
    "        diff = 0\n",
    "        for j in range(length):\n",
    "            mem = 1\n",
    "            for k in range(length):\n",
    "                if k == j:\n",
    "                    mem *= 1\n",
    "                else:\n",
    "                    mem *= (vector[i] - vector[k])\n",
    "            diff += mem\n",
    "        P += ((omega1 * nodes[i]) / (diff*(variable-vector[i])))\n",
    "    return P"
   ]
  },
  {
   "cell_type": "code",
   "execution_count": 44,
   "metadata": {},
   "outputs": [
    {
     "name": "stdout",
     "output_type": "stream",
     "text": [
      "Major X-ticks locations: [-0.05  0.    0.05  0.1   0.15  0.2   0.25  0.3   0.35]\n",
      "Major X-ticks labels: <a list of 9 Text major ticklabel objects>\n",
      "Major X-ticks tick lines: <a list of 18 Line2D ticklines objects>\n"
     ]
    },
    {
     "data": {
      "image/png": "[encoded data removed]",
      "text/plain": [
       "<matplotlib.figure.Figure at 0x16519a54400>"
      ]
     },
     "metadata": {},
     "output_type": "display_data"
    }
   ],
   "source": [
    "import matplotlib.pyplot as plt\n",
    "x = [i/1000 for i in range(300)]\n",
    "y = [Lagrange(expValues2, x2, len(x2), p[i]) for i in range(300)]\n",
    "\n",
    "fig = plt.figure()\n",
    "# Первая область рисования (мультиокно 1)\n",
    "ax = fig.add_subplot(211)\n",
    "ax.plot(x, y, 'k')\n",
    "ax.scatter(x2,expValues2)\n",
    "xax = ax.xaxis\n",
    "yax = ax.yaxis\n",
    "xlocs = xax.get_ticklocs()\n",
    "print ('Major X-ticks locations:', xlocs)\n",
    "xlabels = xax.get_ticklabels()\n",
    "print ('Major X-ticks labels:', xlabels)\n",
    "xlines = xax.get_ticklines()\n",
    "print ('Major X-ticks tick lines:', xlines)\n",
    "# Линии вспомогательной сетки (главные деления) только по оси абсцисс\n",
    "xax.grid(True)\n",
    "yax.grid(True)\n",
    "\n",
    "for label in xlabels:\n",
    "    # цвет подписи деленений оси OX\n",
    "    label.set_color('red')\n",
    "    # поворот подписей деленений оси OX \n",
    "    label.set_rotation(45)\n",
    "    # размер шрифта подписей делений оси OX \n",
    "    label.set_fontsize(14)\n",
    "\n",
    "\n",
    "#print ('Lines on the axes:', type(line), line)\n",
    "plt.show()"
   ]
  },
  {
   "cell_type": "code",
   "execution_count": null,
   "metadata": {
    "collapsed": true
   },
   "outputs": [],
   "source": []
  }
 ],
 "metadata": {
  "kernelspec": {
   "display_name": "Python 3",
   "language": "python",
   "name": "python3"
  },
  "language_info": {
   "codemirror_mode": {
    "name": "ipython",
    "version": 3
   },
   "file_extension": ".py",
   "mimetype": "text/x-python",
   "name": "python",
   "nbconvert_exporter": "python",
   "pygments_lexer": "ipython3",
   "version": "3.6.3"
  }
 },
 "nbformat": 4,
 "nbformat_minor": 2
}
